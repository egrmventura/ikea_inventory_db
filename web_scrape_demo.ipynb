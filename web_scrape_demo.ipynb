{
 "cells": [
  {
   "cell_type": "code",
   "execution_count": 1,
   "metadata": {},
   "outputs": [],
   "source": [
    "from bs4 import BeautifulSoup\n",
    "import requests"
   ]
  },
  {
   "cell_type": "code",
   "execution_count": 34,
   "metadata": {},
   "outputs": [
    {
     "name": "stdout",
     "output_type": "stream",
     "text": [
      "{'products': None}\n",
      "True\n",
      "{'products': {'couch': ['900.001.01']}}\n",
      "False\n",
      "dict_values([{'couch': ['900.001.01']}])\n"
     ]
    }
   ],
   "source": [
    "import json\n",
    "dict = {'products' : None}\n",
    "# dict = dict.fromkeys([\"products\"])\n",
    "print(dict)\n",
    "print(dict['products'] == None)\n",
    "dict['products'] = ({'couch' : ['900.001.01']})\n",
    "print(dict)\n",
    "print(dict['products'] == None)\n",
    "print(dict.values())\n",
    "# dict['products']['couch'].append('900.001.02') \n",
    "                \n",
    "# print(dict)\n",
    "# dict['products']['couch'].append('900.001.03')\n",
    "# print(dict)\n",
    "# dict['products']['couch'].append('900.001.03')\n",
    "# print(dict)\n",
    "# dict['products']['chair'] = ['900.001.04']\n",
    "# print(dict)\n",
    "# dict_sub = {'parts' : ['401.002.01' , '401.002.02', '302.802.01']}\n",
    "# dict['products']['couch'].append(dict_sub)\n",
    "# print(dict)"
   ]
  },
  {
   "cell_type": "code",
   "execution_count": 4,
   "metadata": {},
   "outputs": [],
   "source": [
    "url = \"https://www.ikea.com/us/en/p/uppland-sectional-4-seat-corner-blekinge-white-s49384110/\""
   ]
  },
  {
   "cell_type": "code",
   "execution_count": null,
   "metadata": {},
   "outputs": [],
   "source": [
    "\n",
    "result = requests.get(url)\n",
    "doc = BeautifulSoup(result.text, \"html.parser\")\n",
    "\n",
    "article_id = doc.find_all(string=\"Article Number\")\n",
    "print(article_id)\n",
    "print(doc)"
   ]
  },
  {
   "cell_type": "code",
   "execution_count": 12,
   "metadata": {},
   "outputs": [
    {
     "name": "stdout",
     "output_type": "stream",
     "text": [
      "['Article Number', 'Article Number', 'Article Number']\n"
     ]
    }
   ],
   "source": [
    "tag = doc.find_all(attrs={\"Article Number\"})\n",
    "# print(tag.attrs)\n",
    "print(tag)"
   ]
  },
  {
   "cell_type": "code",
   "execution_count": 8,
   "metadata": {},
   "outputs": [
    {
     "ename": "TypeError",
     "evalue": "expected str, bytes or os.PathLike object, not Response",
     "output_type": "error",
     "traceback": [
      "\u001b[0;31m---------------------------------------------------------------------------\u001b[0m",
      "\u001b[0;31mTypeError\u001b[0m                                 Traceback (most recent call last)",
      "Cell \u001b[0;32mIn[8], line 12\u001b[0m\n\u001b[1;32m      5\u001b[0m result \u001b[38;5;241m=\u001b[39m requests\u001b[38;5;241m.\u001b[39mget(url)\n\u001b[1;32m      6\u001b[0m \u001b[38;5;66;03m# doc = BeautifulSoup(result.text, \"html.parser\")\u001b[39;00m\n\u001b[1;32m      7\u001b[0m \n\u001b[1;32m      8\u001b[0m \u001b[38;5;66;03m# article_id = doc.find_all(string=\"Article Number\")\u001b[39;00m\n\u001b[1;32m      9\u001b[0m \u001b[38;5;66;03m# print(article_id)\u001b[39;00m\n\u001b[1;32m     10\u001b[0m \u001b[38;5;66;03m# print(doc)\u001b[39;00m\n\u001b[0;32m---> 12\u001b[0m \u001b[38;5;28;01mwith\u001b[39;00m \u001b[38;5;28;43mopen\u001b[39;49m\u001b[43m(\u001b[49m\u001b[43mresult\u001b[49m\u001b[43m,\u001b[49m\u001b[43m \u001b[49m\u001b[38;5;124;43m'\u001b[39;49m\u001b[38;5;124;43mr\u001b[39;49m\u001b[38;5;124;43m'\u001b[39;49m\u001b[43m)\u001b[49m \u001b[38;5;28;01mas\u001b[39;00m f:\n\u001b[1;32m     13\u001b[0m     contents \u001b[38;5;241m=\u001b[39m  f\u001b[38;5;241m.\u001b[39mread()\n\u001b[1;32m     14\u001b[0m     soup \u001b[38;5;241m=\u001b[39m BeautifulSoup(contents, \u001b[38;5;124m\"\u001b[39m\u001b[38;5;124mhtml.parser\u001b[39m\u001b[38;5;124m\"\u001b[39m)\n",
      "File \u001b[0;32m~/.pyenv/versions/3.12.1/lib/python3.12/site-packages/IPython/core/interactiveshell.py:310\u001b[0m, in \u001b[0;36m_modified_open\u001b[0;34m(file, *args, **kwargs)\u001b[0m\n\u001b[1;32m    303\u001b[0m \u001b[38;5;28;01mif\u001b[39;00m file \u001b[38;5;129;01min\u001b[39;00m {\u001b[38;5;241m0\u001b[39m, \u001b[38;5;241m1\u001b[39m, \u001b[38;5;241m2\u001b[39m}:\n\u001b[1;32m    304\u001b[0m     \u001b[38;5;28;01mraise\u001b[39;00m \u001b[38;5;167;01mValueError\u001b[39;00m(\n\u001b[1;32m    305\u001b[0m         \u001b[38;5;124mf\u001b[39m\u001b[38;5;124m\"\u001b[39m\u001b[38;5;124mIPython won\u001b[39m\u001b[38;5;124m'\u001b[39m\u001b[38;5;124mt let you open fd=\u001b[39m\u001b[38;5;132;01m{\u001b[39;00mfile\u001b[38;5;132;01m}\u001b[39;00m\u001b[38;5;124m by default \u001b[39m\u001b[38;5;124m\"\u001b[39m\n\u001b[1;32m    306\u001b[0m         \u001b[38;5;124m\"\u001b[39m\u001b[38;5;124mas it is likely to crash IPython. If you know what you are doing, \u001b[39m\u001b[38;5;124m\"\u001b[39m\n\u001b[1;32m    307\u001b[0m         \u001b[38;5;124m\"\u001b[39m\u001b[38;5;124myou can use builtins\u001b[39m\u001b[38;5;124m'\u001b[39m\u001b[38;5;124m open.\u001b[39m\u001b[38;5;124m\"\u001b[39m\n\u001b[1;32m    308\u001b[0m     )\n\u001b[0;32m--> 310\u001b[0m \u001b[38;5;28;01mreturn\u001b[39;00m \u001b[43mio_open\u001b[49m\u001b[43m(\u001b[49m\u001b[43mfile\u001b[49m\u001b[43m,\u001b[49m\u001b[43m \u001b[49m\u001b[38;5;241;43m*\u001b[39;49m\u001b[43margs\u001b[49m\u001b[43m,\u001b[49m\u001b[43m \u001b[49m\u001b[38;5;241;43m*\u001b[39;49m\u001b[38;5;241;43m*\u001b[39;49m\u001b[43mkwargs\u001b[49m\u001b[43m)\u001b[49m\n",
      "\u001b[0;31mTypeError\u001b[0m: expected str, bytes or os.PathLike object, not Response"
     ]
    }
   ],
   "source": [
    "from bs4 import  BeautifulSoup\n",
    "import requests\n",
    "\n",
    "url2 = \"https://www.newegg.com/lacie-model-stfr5000800-5tb/p/2WA-0009-000F0?Item=2WA-0009-000F0&SoldByNewegg=1\"\n",
    "result = requests.get(url)\n",
    "# doc = BeautifulSoup(result.text, \"html.parser\")\n",
    "\n",
    "# article_id = doc.find_all(string=\"Article Number\")\n",
    "# print(article_id)\n",
    "# print(doc)\n",
    "\n",
    "with open(result, 'r') as f:\n",
    "    contents =  f.read()\n",
    "    soup = BeautifulSoup(contents, \"html.parser\")\n",
    "\n",
    "    for tag in soup.find_all('$'):\n",
    "        print(tag.text)\n",
    "\n",
    "# result = requests.get(url2)\n",
    "\n",
    "# doc = BeautifulSoup(result.text, \"html.parser\")\n",
    "\n",
    "# # tags = doc.find_all(class_=\"price-current\")\n",
    "# prices = doc.find_all(string=\"179\")\n",
    "# parents = prices[0].parent\n",
    "# print(parents)"
   ]
  },
  {
   "cell_type": "code",
   "execution_count": 35,
   "metadata": {},
   "outputs": [
    {
     "name": "stdout",
     "output_type": "stream",
     "text": [
      "[]\n",
      "[]\n"
     ]
    }
   ],
   "source": [
    "import requests\n",
    "from selenium import webdriver\n",
    "from bs4 import BeautifulSoup\n",
    "# url3 = \"http://quotes.toscrape.com/js/\"\n",
    "# driver = webdriver.Chrome()\n",
    "# driver.get(url3)\n",
    "url3 = \"https://www.newegg.com/lacie-model-stfr5000800-5tb/p/2WA-0009-000F0?Item=2WA-0009-000F0&SoldByNewegg=1\"\n",
    "# js_content = driver.page_source\n",
    "result = requests.get(url3)\n",
    "\n",
    "soup = BeautifulSoup(result.text, \"html.parser\")\n",
    "\n",
    "price = soup.find_all(number=179)\n",
    "print(price)\n",
    "# quote = soup.find_all(\"ul\", class_=\"price\")\n",
    "quote = soup.find_all(string=\"Feel 100% satisfied with your purchase -- with no restocking fees &amp; no return shipping costs* within 30 days of delivery. \")\n",
    "print(quote)"
   ]
  },
  {
   "cell_type": "code",
   "execution_count": null,
   "metadata": {},
   "outputs": [],
   "source": [
    "from bs4 import BeautifulSoup\n",
    "import requests\n",
    "\n",
    "url_prod = \"https://www.ikea.com/us/en/cat/products-products/\"\n",
    "url_prod_furn_sofa_fabr_sect = \"https://www.ikea.com/us/en/cat/fabric-sectionals-10671/\"\n",
    "url_prod_furn_sofa_fabr_sect_uppland  = \"https://www.ikea.com/us/en/p/uppland-sectional-4-seat-corner-blekinge-white-s49384110/\"\n",
    "url_prod_furn_tabl_lagk = \"https://www.ikea.com/us/en/p/lagkapten-alex-desk-white-s99431982/\"\n",
    "\n",
    "# result = requests.get(url_prod_furn_sofa_fabr_sect_uppland)\n",
    "result = requests.get(url_prod_furn_tabl_lagk)\n",
    "soup = BeautifulSoup(result.text, \"html.parser\")\n",
    "article_id_list = soup.find_all(string=\"Article Number\")\n",
    "item_id = article_id_list[0].find_parent(\"div\").find(class_=\"pip-product-identifier__value\").string\n",
    "print(item_id)\n",
    "item_id2 = soup.find(\"span\", class_=\"pip-product-identifier__value\").string\n",
    "print(item_id2)\n",
    "item_name = soup.find(\"div\", class_=\"pip-header-section__container-text\").find(\"span\").string\n",
    "print(item_name)\n",
    "for f in range(len(article_id_list)):\n",
    "    try:\n",
    "        parents = article_id_list[f].find_parent(\"div\").parent.parent #.find(class_=\"pip-page-container \")\n",
    "        # parents = article_id_list[f].parent.parent.parent.parent\n",
    "        print(f)\n",
    "        print(parents)\n",
    "    except:\n",
    "        pass\n",
    "print(article_id_list)\n",
    "\n",
    "\n",
    "# Look into looping the parent of parent to find the class_=\"pip-product-dimenssoin__package-container\"\n",
    "# It appears that <span class=\"pip-product-identifier__value\"> will return the product id and will lead to find if it is a product or part\n",
    "\n",
    "# class_=\"pip-product-dimensions__package-count\""
   ]
  },
  {
   "cell_type": "code",
   "execution_count": 84,
   "metadata": {},
   "outputs": [
    {
     "name": "stdout",
     "output_type": "stream",
     "text": [
      "<span class=\"pip-product-identifier\" data-ga-action=\"article_number_click\" data-ga-label=\"measurements_packaging_904.727.07\"><span class=\"pip-product-identifier__label\">Article Number</span><span class=\"pip-product-identifier__value\">904.727.07</span></span>\n",
      "[<span class=\"pip-product-identifier__value\">493.841.10</span>, <span class=\"pip-product-identifier__value\">904.727.07</span>, <span class=\"pip-product-identifier__value\">804.876.29</span>, <span class=\"pip-product-identifier__value\">904.727.07</span>, <span class=\"pip-product-identifier__value\">904.727.07</span>, <span class=\"pip-product-identifier__value\">804.876.29</span>]\n",
      "6\n",
      "[<span class=\"pip-product-identifier__value\">904.727.07</span>, <span class=\"pip-product-identifier__value\">804.876.29</span>, <span class=\"pip-product-identifier__value\">904.727.07</span>]\n",
      "[<span class=\"pip-product-identifier__value\">904.727.07</span>, <span class=\"pip-product-identifier__value\">804.876.29</span>]\n",
      "[<span class=\"pip-product-identifier__value\">904.727.07</span>, <span class=\"pip-product-identifier__value\">804.876.29</span>, <span class=\"pip-product-identifier__value\">904.727.07</span>, <span class=\"pip-product-identifier__value\">904.727.07</span>, <span class=\"pip-product-identifier__value\">804.876.29</span>]\n",
      "\n",
      "step\n"
     ]
    },
    {
     "ename": "AttributeError",
     "evalue": "'NoneType' object has no attribute 'get_text'",
     "output_type": "error",
     "traceback": [
      "\u001b[0;31m---------------------------------------------------------------------------\u001b[0m",
      "\u001b[0;31mAttributeError\u001b[0m                            Traceback (most recent call last)",
      "Cell \u001b[0;32mIn[84], line 39\u001b[0m\n\u001b[1;32m     36\u001b[0m package_dict[\u001b[38;5;124m\"\u001b[39m\u001b[38;5;124mpackage_ord\u001b[39m\u001b[38;5;124m\"\u001b[39m] \u001b[38;5;241m=\u001b[39m package_ord \u001b[38;5;241m+\u001b[39m \u001b[38;5;241m1\u001b[39m\n\u001b[1;32m     38\u001b[0m \u001b[38;5;28;01mfor\u001b[39;00m dim \u001b[38;5;129;01min\u001b[39;00m package\u001b[38;5;241m.\u001b[39mfind_all(\u001b[38;5;124m\"\u001b[39m\u001b[38;5;124mp\u001b[39m\u001b[38;5;124m\"\u001b[39m, class_\u001b[38;5;241m=\u001b[39m\u001b[38;5;124m\"\u001b[39m\u001b[38;5;124mpip-product-dimensions__measurement-wrapper\u001b[39m\u001b[38;5;124m\"\u001b[39m):\n\u001b[0;32m---> 39\u001b[0m     package_dict[dim\u001b[38;5;241m.\u001b[39mspan\u001b[38;5;241m.\u001b[39mget_text(strip\u001b[38;5;241m=\u001b[39m\u001b[38;5;28;01mTrue\u001b[39;00m)] \u001b[38;5;241m=\u001b[39m \u001b[43mdim\u001b[49m\u001b[38;5;241;43m.\u001b[39;49m\u001b[43mp\u001b[49m\u001b[38;5;241;43m.\u001b[39;49m\u001b[43mget_text\u001b[49m(strip\u001b[38;5;241m=\u001b[39m\u001b[38;5;28;01mTrue\u001b[39;00m)\n\u001b[1;32m     41\u001b[0m \u001b[38;5;28mprint\u001b[39m(package_dict)    \n\u001b[1;32m     42\u001b[0m package_ord \u001b[38;5;241m+\u001b[39m\u001b[38;5;241m=\u001b[39m \u001b[38;5;241m1\u001b[39m\n",
      "\u001b[0;31mAttributeError\u001b[0m: 'NoneType' object has no attribute 'get_text'"
     ]
    }
   ],
   "source": [
    "from bs4 import BeautifulSoup\n",
    "import requests\n",
    "\n",
    "url_prod = \"https://www.ikea.com/us/en/p/uppland-sectional-4-seat-corner-blekinge-white-s49384110/\"\n",
    "result = requests.get(url_prod)\n",
    "soup = BeautifulSoup(result.text)\n",
    "\n",
    "article_id_list = soup.find_all(string=\"Article Number\")\n",
    "print(article_id_list[1].parent.parent)\n",
    "find1 = soup.find_all(\"span\", class_=\"pip-product-identifier__value\")\n",
    "print(find1)\n",
    "print(len(find1))\n",
    "# find2 = soup.find_all(\"ul\", class_=\"pip-accordion\", \"span\", class_=\"pip-product-identifier__value\")\n",
    "# print(find2)\n",
    "# print(len(find2))\n",
    "span_list = []\n",
    "for ul in soup.find_all('ul', {'class' : 'pip-accordion'}):\n",
    "    print(ul.find_all('span', {'class' : 'pip-product-identifier__value'}))\n",
    "    span_list.extend(ul.find_all('span', {'class' : 'pip-product-identifier__value'}))\n",
    "\n",
    "print(span_list)\n",
    "# print(span_list[1].parent.parent.parent.parent.parent.parent)\n",
    "print(\"\")\n",
    "packaging_data = []\n",
    "packaging_dict = {}\n",
    "package_cnt = 0\n",
    "for pack in soup.find(\"div\", {\"class\" : \"pip-seo-content\"}).find_all(\"div\", {\"class\" : \"pip-product-dimensions__package-container\"}):\n",
    "    \n",
    "    packaging_dict[\"product_id\"] = pack.find(\"span\", {\"class\" : \"pip-product-identifier__value\"}).string\n",
    "    packaging_dict[\"package_series\"] = pack.find(\"span\", {\"class\" : \"pip-product-dimensions__package-header notranslate\"}).string\n",
    "    packaging_dict[\"package_description\"] = pack.find(\"span\", {\"aria-hidden\" : \"true\"}).string\n",
    "    package_ord = 0 #use in def with pack and package_ord = 0\n",
    "    package_dict = {}\n",
    "    for package in pack.find_all(\"div\", class_=\"pip-product-dimensions__measurement-container\"):\n",
    "        print(\"step\")\n",
    "        package_dict[\"package_ord\"] = package_ord + 1\n",
    "        \n",
    "        for dim in package.find_all(\"p\", class_=\"pip-product-dimensions__measurement-wrapper\"):\n",
    "            package_dict[dim.span.get_text(strip=True)] = dim.p.get_text(strip=True)\n",
    "# find a way to extract the dimensions type from <span and dimensions string to convert to float from <p\n",
    "        print(package_dict)    \n",
    "        package_ord += 1\n",
    "\n",
    "    packaging_data.append(packaging_dict)\n",
    "    print(packaging_data)\n",
    "    \n",
    "    print(\" -- next -- \")\n",
    "\n",
    "# find2 = soup.find_all('div', {'class' : 'pip-product-dimensions'})\n",
    "# print(find2)\n",
    "# print(len(find2))\n",
    "# find3 = soup.find('div', {'class' : 'pip-product-dimensions'}).find('ul', {'class' : 'pip-accordion'}).find_all('span', {'class' : 'pip-product_identifier__value'})\n",
    "# print(find3)\n",
    "# print(len(find3))"
   ]
  }
 ],
 "metadata": {
  "kernelspec": {
   "display_name": "Python 3",
   "language": "python",
   "name": "python3"
  },
  "language_info": {
   "codemirror_mode": {
    "name": "ipython",
    "version": 3
   },
   "file_extension": ".py",
   "mimetype": "text/x-python",
   "name": "python",
   "nbconvert_exporter": "python",
   "pygments_lexer": "ipython3",
   "version": "3.12.1"
  }
 },
 "nbformat": 4,
 "nbformat_minor": 2
}
