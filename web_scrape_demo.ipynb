{
 "cells": [
  {
   "cell_type": "code",
   "execution_count": 1,
   "metadata": {},
   "outputs": [],
   "source": [
    "from bs4 import BeautifulSoup\n",
    "import requests"
   ]
  },
  {
   "cell_type": "code",
   "execution_count": 34,
   "metadata": {},
   "outputs": [
    {
     "name": "stdout",
     "output_type": "stream",
     "text": [
      "{'products': None}\n",
      "True\n",
      "{'products': {'couch': ['900.001.01']}}\n",
      "False\n",
      "dict_values([{'couch': ['900.001.01']}])\n"
     ]
    }
   ],
   "source": [
    "import json\n",
    "dict = {'products' : None}\n",
    "# dict = dict.fromkeys([\"products\"])\n",
    "print(dict)\n",
    "print(dict['products'] == None)\n",
    "dict['products'] = ({'couch' : ['900.001.01']})\n",
    "print(dict)\n",
    "print(dict['products'] == None)\n",
    "print(dict.values())\n",
    "# dict['products']['couch'].append('900.001.02') \n",
    "                \n",
    "# print(dict)\n",
    "# dict['products']['couch'].append('900.001.03')\n",
    "# print(dict)\n",
    "# dict['products']['couch'].append('900.001.03')\n",
    "# print(dict)\n",
    "# dict['products']['chair'] = ['900.001.04']\n",
    "# print(dict)\n",
    "# dict_sub = {'parts' : ['401.002.01' , '401.002.02', '302.802.01']}\n",
    "# dict['products']['couch'].append(dict_sub)\n",
    "# print(dict)"
   ]
  },
  {
   "cell_type": "code",
   "execution_count": 4,
   "metadata": {},
   "outputs": [],
   "source": [
    "url = \"https://www.ikea.com/us/en/p/uppland-sectional-4-seat-corner-blekinge-white-s49384110/\""
   ]
  },
  {
   "cell_type": "code",
   "execution_count": null,
   "metadata": {},
   "outputs": [],
   "source": [
    "\n",
    "result = requests.get(url)\n",
    "doc = BeautifulSoup(result.text, \"html.parser\")\n",
    "\n",
    "article_id = doc.find_all(string=\"Article Number\")\n",
    "print(article_id)\n",
    "print(doc)"
   ]
  },
  {
   "cell_type": "code",
   "execution_count": 12,
   "metadata": {},
   "outputs": [
    {
     "name": "stdout",
     "output_type": "stream",
     "text": [
      "['Article Number', 'Article Number', 'Article Number']\n"
     ]
    }
   ],
   "source": [
    "tag = doc.find_all(attrs={\"Article Number\"})\n",
    "# print(tag.attrs)\n",
    "print(tag)"
   ]
  },
  {
   "cell_type": "code",
   "execution_count": 8,
   "metadata": {},
   "outputs": [
    {
     "ename": "TypeError",
     "evalue": "expected str, bytes or os.PathLike object, not Response",
     "output_type": "error",
     "traceback": [
      "\u001b[0;31m---------------------------------------------------------------------------\u001b[0m",
      "\u001b[0;31mTypeError\u001b[0m                                 Traceback (most recent call last)",
      "Cell \u001b[0;32mIn[8], line 12\u001b[0m\n\u001b[1;32m      5\u001b[0m result \u001b[38;5;241m=\u001b[39m requests\u001b[38;5;241m.\u001b[39mget(url)\n\u001b[1;32m      6\u001b[0m \u001b[38;5;66;03m# doc = BeautifulSoup(result.text, \"html.parser\")\u001b[39;00m\n\u001b[1;32m      7\u001b[0m \n\u001b[1;32m      8\u001b[0m \u001b[38;5;66;03m# article_id = doc.find_all(string=\"Article Number\")\u001b[39;00m\n\u001b[1;32m      9\u001b[0m \u001b[38;5;66;03m# print(article_id)\u001b[39;00m\n\u001b[1;32m     10\u001b[0m \u001b[38;5;66;03m# print(doc)\u001b[39;00m\n\u001b[0;32m---> 12\u001b[0m \u001b[38;5;28;01mwith\u001b[39;00m \u001b[38;5;28;43mopen\u001b[39;49m\u001b[43m(\u001b[49m\u001b[43mresult\u001b[49m\u001b[43m,\u001b[49m\u001b[43m \u001b[49m\u001b[38;5;124;43m'\u001b[39;49m\u001b[38;5;124;43mr\u001b[39;49m\u001b[38;5;124;43m'\u001b[39;49m\u001b[43m)\u001b[49m \u001b[38;5;28;01mas\u001b[39;00m f:\n\u001b[1;32m     13\u001b[0m     contents \u001b[38;5;241m=\u001b[39m  f\u001b[38;5;241m.\u001b[39mread()\n\u001b[1;32m     14\u001b[0m     soup \u001b[38;5;241m=\u001b[39m BeautifulSoup(contents, \u001b[38;5;124m\"\u001b[39m\u001b[38;5;124mhtml.parser\u001b[39m\u001b[38;5;124m\"\u001b[39m)\n",
      "File \u001b[0;32m~/.pyenv/versions/3.12.1/lib/python3.12/site-packages/IPython/core/interactiveshell.py:310\u001b[0m, in \u001b[0;36m_modified_open\u001b[0;34m(file, *args, **kwargs)\u001b[0m\n\u001b[1;32m    303\u001b[0m \u001b[38;5;28;01mif\u001b[39;00m file \u001b[38;5;129;01min\u001b[39;00m {\u001b[38;5;241m0\u001b[39m, \u001b[38;5;241m1\u001b[39m, \u001b[38;5;241m2\u001b[39m}:\n\u001b[1;32m    304\u001b[0m     \u001b[38;5;28;01mraise\u001b[39;00m \u001b[38;5;167;01mValueError\u001b[39;00m(\n\u001b[1;32m    305\u001b[0m         \u001b[38;5;124mf\u001b[39m\u001b[38;5;124m\"\u001b[39m\u001b[38;5;124mIPython won\u001b[39m\u001b[38;5;124m'\u001b[39m\u001b[38;5;124mt let you open fd=\u001b[39m\u001b[38;5;132;01m{\u001b[39;00mfile\u001b[38;5;132;01m}\u001b[39;00m\u001b[38;5;124m by default \u001b[39m\u001b[38;5;124m\"\u001b[39m\n\u001b[1;32m    306\u001b[0m         \u001b[38;5;124m\"\u001b[39m\u001b[38;5;124mas it is likely to crash IPython. If you know what you are doing, \u001b[39m\u001b[38;5;124m\"\u001b[39m\n\u001b[1;32m    307\u001b[0m         \u001b[38;5;124m\"\u001b[39m\u001b[38;5;124myou can use builtins\u001b[39m\u001b[38;5;124m'\u001b[39m\u001b[38;5;124m open.\u001b[39m\u001b[38;5;124m\"\u001b[39m\n\u001b[1;32m    308\u001b[0m     )\n\u001b[0;32m--> 310\u001b[0m \u001b[38;5;28;01mreturn\u001b[39;00m \u001b[43mio_open\u001b[49m\u001b[43m(\u001b[49m\u001b[43mfile\u001b[49m\u001b[43m,\u001b[49m\u001b[43m \u001b[49m\u001b[38;5;241;43m*\u001b[39;49m\u001b[43margs\u001b[49m\u001b[43m,\u001b[49m\u001b[43m \u001b[49m\u001b[38;5;241;43m*\u001b[39;49m\u001b[38;5;241;43m*\u001b[39;49m\u001b[43mkwargs\u001b[49m\u001b[43m)\u001b[49m\n",
      "\u001b[0;31mTypeError\u001b[0m: expected str, bytes or os.PathLike object, not Response"
     ]
    }
   ],
   "source": [
    "from bs4 import  BeautifulSoup\n",
    "import requests\n",
    "\n",
    "url2 = \"https://www.newegg.com/lacie-model-stfr5000800-5tb/p/2WA-0009-000F0?Item=2WA-0009-000F0&SoldByNewegg=1\"\n",
    "result = requests.get(url)\n",
    "# doc = BeautifulSoup(result.text, \"html.parser\")\n",
    "\n",
    "# article_id = doc.find_all(string=\"Article Number\")\n",
    "# print(article_id)\n",
    "# print(doc)\n",
    "\n",
    "with open(result, 'r') as f:\n",
    "    contents =  f.read()\n",
    "    soup = BeautifulSoup(contents, \"html.parser\")\n",
    "\n",
    "    for tag in soup.find_all('$'):\n",
    "        print(tag.text)\n",
    "\n",
    "# result = requests.get(url2)\n",
    "\n",
    "# doc = BeautifulSoup(result.text, \"html.parser\")\n",
    "\n",
    "# # tags = doc.find_all(class_=\"price-current\")\n",
    "# prices = doc.find_all(string=\"179\")\n",
    "# parents = prices[0].parent\n",
    "# print(parents)"
   ]
  },
  {
   "cell_type": "code",
   "execution_count": 35,
   "metadata": {},
   "outputs": [
    {
     "name": "stdout",
     "output_type": "stream",
     "text": [
      "[]\n",
      "[]\n"
     ]
    }
   ],
   "source": [
    "import requests\n",
    "from selenium import webdriver\n",
    "from bs4 import BeautifulSoup\n",
    "# url3 = \"http://quotes.toscrape.com/js/\"\n",
    "# driver = webdriver.Chrome()\n",
    "# driver.get(url3)\n",
    "url3 = \"https://www.newegg.com/lacie-model-stfr5000800-5tb/p/2WA-0009-000F0?Item=2WA-0009-000F0&SoldByNewegg=1\"\n",
    "# js_content = driver.page_source\n",
    "result = requests.get(url3)\n",
    "\n",
    "soup = BeautifulSoup(result.text, \"html.parser\")\n",
    "\n",
    "price = soup.find_all(number=179)\n",
    "print(price)\n",
    "# quote = soup.find_all(\"ul\", class_=\"price\")\n",
    "quote = soup.find_all(string=\"Feel 100% satisfied with your purchase -- with no restocking fees &amp; no return shipping costs* within 30 days of delivery. \")\n",
    "print(quote)"
   ]
  },
  {
   "cell_type": "code",
   "execution_count": null,
   "metadata": {},
   "outputs": [],
   "source": [
    "from bs4 import BeautifulSoup\n",
    "import requests\n",
    "\n",
    "url_prod = \"https://www.ikea.com/us/en/cat/products-products/\"\n",
    "url_prod_furn_sofa_fabr_sect = \"https://www.ikea.com/us/en/cat/fabric-sectionals-10671/\"\n",
    "url_prod_furn_sofa_fabr_sect_uppland  = \"https://www.ikea.com/us/en/p/uppland-sectional-4-seat-corner-blekinge-white-s49384110/\"\n",
    "url_prod_furn_tabl_lagk = \"https://www.ikea.com/us/en/p/lagkapten-alex-desk-white-s99431982/\"\n",
    "\n",
    "# result = requests.get(url_prod_furn_sofa_fabr_sect_uppland)\n",
    "result = requests.get(url_prod_furn_tabl_lagk)\n",
    "soup = BeautifulSoup(result.text, \"html.parser\")\n",
    "article_id_list = soup.find_all(string=\"Article Number\")\n",
    "item_id = article_id_list[0].find_parent(\"div\").find(class_=\"pip-product-identifier__value\").string\n",
    "print(item_id)\n",
    "item_id2 = soup.find(\"span\", class_=\"pip-product-identifier__value\").string\n",
    "print(item_id2)\n",
    "item_name = soup.find(\"div\", class_=\"pip-header-section__container-text\").find(\"span\").string\n",
    "print(item_name)\n",
    "for f in range(len(article_id_list)):\n",
    "    try:\n",
    "        parents = article_id_list[f].find_parent(\"div\").parent.parent #.find(class_=\"pip-page-container \")\n",
    "        # parents = article_id_list[f].parent.parent.parent.parent\n",
    "        print(f)\n",
    "        print(parents)\n",
    "    except:\n",
    "        pass\n",
    "print(article_id_list)\n",
    "\n",
    "\n",
    "# Look into looping the parent of parent to find the class_=\"pip-product-dimenssoin__package-container\"\n",
    "# It appears that <span class=\"pip-product-identifier__value\"> will return the product id and will lead to find if it is a product or part\n",
    "\n",
    "# class_=\"pip-product-dimensions__package-count\""
   ]
  },
  {
   "cell_type": "code",
   "execution_count": 154,
   "metadata": {},
   "outputs": [
    {
     "name": "stdout",
     "output_type": "stream",
     "text": [
      "APOSTROPHE\n",
      "<span class=\"pip-product-identifier\" data-ga-action=\"article_number_click\" data-ga-label=\"measurements_packaging_904.727.07\"><span class=\"pip-product-identifier__label\">Article Number</span><span class=\"pip-product-identifier__value\">904.727.07</span></span>\n",
      "[<span class=\"pip-product-identifier__value\">493.841.10</span>, <span class=\"pip-product-identifier__value\">904.727.07</span>, <span class=\"pip-product-identifier__value\">804.876.29</span>, <span class=\"pip-product-identifier__value\">904.727.07</span>, <span class=\"pip-product-identifier__value\">904.727.07</span>, <span class=\"pip-product-identifier__value\">804.876.29</span>]\n",
      "6\n",
      "[<span class=\"pip-product-identifier__value\">904.727.07</span>, <span class=\"pip-product-identifier__value\">804.876.29</span>, <span class=\"pip-product-identifier__value\">904.727.07</span>]\n",
      "[<span class=\"pip-product-identifier__value\">904.727.07</span>, <span class=\"pip-product-identifier__value\">804.876.29</span>]\n",
      "[<span class=\"pip-product-identifier__value\">904.727.07</span>, <span class=\"pip-product-identifier__value\">804.876.29</span>, <span class=\"pip-product-identifier__value\">904.727.07</span>, <span class=\"pip-product-identifier__value\">904.727.07</span>, <span class=\"pip-product-identifier__value\">804.876.29</span>]\n",
      "\n",
      "width\n",
      " 36 ½ \"\n",
      "--end--\n",
      "[['\\xa0', '3', '6'], ['NO-BREAK', 'DIGIT', 'DIGIT'], False]\n"
     ]
    },
    {
     "ename": "IndexError",
     "evalue": "list assignment index out of range",
     "output_type": "error",
     "traceback": [
      "\u001b[0;31m---------------------------------------------------------------------------\u001b[0m",
      "\u001b[0;31mIndexError\u001b[0m                                Traceback (most recent call last)",
      "Cell \u001b[0;32mIn[154], line 138\u001b[0m\n\u001b[1;32m    136\u001b[0m             \u001b[38;5;28mprint\u001b[39m(measure_value)\n\u001b[1;32m    137\u001b[0m             \u001b[38;5;28mprint\u001b[39m(\u001b[38;5;124m\"\u001b[39m\u001b[38;5;124m--end--\u001b[39m\u001b[38;5;124m\"\u001b[39m)\n\u001b[0;32m--> 138\u001b[0m             measure \u001b[38;5;241m=\u001b[39m \u001b[43mpackage_measurement\u001b[49m\u001b[43m(\u001b[49m\u001b[43mmeasure_value\u001b[49m\u001b[43m)\u001b[49m\n\u001b[1;32m    139\u001b[0m             package_dict[measure_key] \u001b[38;5;241m=\u001b[39m measure\n\u001b[1;32m    141\u001b[0m \u001b[38;5;66;03m# find a way to extract the dimensions type from <span and dimensions string to convert to float from <p\u001b[39;00m\n",
      "Cell \u001b[0;32mIn[154], line 67\u001b[0m, in \u001b[0;36mpackage_measurement\u001b[0;34m(measurement)\u001b[0m\n\u001b[1;32m     65\u001b[0m \u001b[38;5;66;03m# break\u001b[39;00m\n\u001b[1;32m     66\u001b[0m \u001b[38;5;28;01mif\u001b[39;00m \u001b[38;5;129;01mnot\u001b[39;00m break_measure[\u001b[38;5;241m2\u001b[39m]: \n\u001b[0;32m---> 67\u001b[0m     measurement_list \u001b[38;5;241m=\u001b[39m \u001b[43mmeasureBreak\u001b[49m\u001b[43m(\u001b[49m\u001b[43mbreak_measure\u001b[49m\u001b[43m,\u001b[49m\u001b[43m \u001b[49m\u001b[43mmeasurement_list\u001b[49m\u001b[43m)\u001b[49m\n\u001b[1;32m     68\u001b[0m \u001b[38;5;28;01melse\u001b[39;00m:            \n\u001b[1;32m     69\u001b[0m     \u001b[38;5;28;01mtry\u001b[39;00m:\n",
      "Cell \u001b[0;32mIn[154], line 18\u001b[0m, in \u001b[0;36mmeasureBreak\u001b[0;34m(plist, measurement_list)\u001b[0m\n\u001b[1;32m     16\u001b[0m     measurement_list_local[\u001b[38;5;241m0\u001b[39m][measurment_stage] \u001b[38;5;241m=\u001b[39m uni\u001b[38;5;241m.\u001b[39mnumeric(plist[\u001b[38;5;241m0\u001b[39m][\u001b[38;5;241m0\u001b[39m])\n\u001b[1;32m     17\u001b[0m \u001b[38;5;28;01melif\u001b[39;00m n \u001b[38;5;241m==\u001b[39m \u001b[38;5;241m0\u001b[39m \u001b[38;5;129;01mand\u001b[39;00m plist[\u001b[38;5;241m1\u001b[39m][\u001b[38;5;241m0\u001b[39m] \u001b[38;5;129;01mnot\u001b[39;00m \u001b[38;5;129;01min\u001b[39;00m [\u001b[38;5;124m\"\u001b[39m\u001b[38;5;124mDIGIT\u001b[39m\u001b[38;5;124m\"\u001b[39m, \u001b[38;5;124m\"\u001b[39m\u001b[38;5;124mVULGAR\u001b[39m\u001b[38;5;124m\"\u001b[39m]: \u001b[38;5;66;03m# first character of measurement unit string\u001b[39;00m\n\u001b[0;32m---> 18\u001b[0m     \u001b[43mmeasurement_list_local\u001b[49m\u001b[43m[\u001b[49m\u001b[38;5;241;43m1\u001b[39;49m\u001b[43m]\u001b[49m\u001b[43m[\u001b[49m\u001b[43mmeasurment_stage\u001b[49m\u001b[43m]\u001b[49m \u001b[38;5;241m=\u001b[39m plist[\u001b[38;5;241m0\u001b[39m][\u001b[38;5;241m0\u001b[39m]\n\u001b[1;32m     19\u001b[0m \u001b[38;5;28;01melif\u001b[39;00m plist[\u001b[38;5;241m1\u001b[39m][n] \u001b[38;5;241m==\u001b[39m plist[\u001b[38;5;241m1\u001b[39m][n\u001b[38;5;241m-\u001b[39m\u001b[38;5;241m1\u001b[39m] \u001b[38;5;129;01mand\u001b[39;00m plist[\u001b[38;5;241m1\u001b[39m][n] \u001b[38;5;241m==\u001b[39m \u001b[38;5;124m\"\u001b[39m\u001b[38;5;124mDIGIT\u001b[39m\u001b[38;5;124m\"\u001b[39m: \u001b[38;5;66;03m# second digit in integer value of measurement decimal\u001b[39;00m\n\u001b[1;32m     20\u001b[0m     measurement_list_local[\u001b[38;5;241m0\u001b[39m][measurment_stage] \u001b[38;5;241m=\u001b[39m (\u001b[38;5;241m10\u001b[39m \u001b[38;5;241m*\u001b[39m measurement_list_local[\u001b[38;5;241m0\u001b[39m][measurment_stage]) \u001b[38;5;241m+\u001b[39m uni\u001b[38;5;241m.\u001b[39mnumeric(plist[\u001b[38;5;241m0\u001b[39m][n]) \n",
      "\u001b[0;31mIndexError\u001b[0m: list assignment index out of range"
     ]
    }
   ],
   "source": [
    "from bs4 import BeautifulSoup\n",
    "import requests\n",
    "import unicodedata as uni\n",
    "\n",
    "url_prod = \"https://www.ikea.com/us/en/p/uppland-sectional-4-seat-corner-blekinge-white-s49384110/\"\n",
    "result = requests.get(url_prod)\n",
    "soup = BeautifulSoup(result.text)\n",
    "\n",
    "def measureBreak(plist, measurement_list):\n",
    "    # A measurement has a unit or fraction attached to the decimal and must be broken into 2+ entries\n",
    "    measurement_list_local = measurement_list\n",
    "    # measurement list is 2D list: measurement_list[[measurement decimals], [units], stage of entries]\n",
    "    for n in range(len(plist[0])):\n",
    "        measurment_stage = measurement_list_local[2] # call out measurement stage as variable for simplicity\n",
    "        if n == 0 and plist[1][0] in [\"DIGIT\", \"VULGAR\"]: # first digit or fraction of measurement decimal\n",
    "            measurement_list_local[0][measurment_stage] = uni.numeric(plist[0][0])\n",
    "        elif n == 0 and plist[1][0] not in [\"DIGIT\", \"VULGAR\"]: # first character of measurement unit string\n",
    "            measurement_list_local[1][measurment_stage] = plist[0][0]\n",
    "        elif plist[1][n] == plist[1][n-1] and plist[1][n] == \"DIGIT\": # second digit in integer value of measurement decimal\n",
    "            measurement_list_local[0][measurment_stage] = (10 * measurement_list_local[0][measurment_stage]) + uni.numeric(plist[0][n]) \n",
    "            #increasing existing integer by coef 10 to add next integer\n",
    "        elif plist[1][n] == \"VULGAR\" and plist[1][n-1] == \"DIGIT\": # fraction in string to be added as decimal value\n",
    "            measurement_list_local[0][measurment_stage]+=uni.numeric(plist[0][n])\n",
    "        elif plist[1][n] == plist[1][n-1] and plist[1][n] == \"LATIN\": # second character in latin text measurement unit\n",
    "            measurement_list_local[1][measurment_stage]+=plist[0][n]\n",
    "        elif plist[1][n-1] in [\"DIGIT\", \"VULGAR\"] and plist[1][n] not in [\"DIGIT\", \"VULGAR\"]: # first character in non latin measurement unit, likely ' or \"\n",
    "            measurement_list_local[1][measurment_stage] = plist[0][n]\n",
    "        elif plist[1][n-1] not in [\"DIGIT\", \"VULGAR\"] and plist[1][n] in [\"DIGIT\", \"VULGAR\"]: # transition from measurement unit to measurement value\n",
    "            measurement_list_local[2]+=1 # next measurmeent stage\n",
    "            measurement_list_local[0][measurment_stage+1] = uni.numeric(plist[0][n]) # first digit or fraction in next measurment decimal\n",
    "        else: return measurement_list # an error in the string must cancel input of additional values\n",
    "\n",
    "    return measurement_list_local\n",
    "\n",
    "def measureBreakTest(piece):\n",
    "    plist = [[],[],True] # list of each character, truncated unicodedata name, and bool of unicodedata name consistency\n",
    "    for p in piece:\n",
    "        plist[0].append(p)\n",
    "        plist[1].append(uni.name(p).split()[0])\n",
    "        if len(plist[1]) > 1 and plist[1][-2] != plist[1][-1]: plist[2] = False\n",
    "    return plist\n",
    "    \n",
    "\n",
    "    \n",
    "\n",
    "\"\"\"\n",
    "to get the decimals, fractions, and unit characters separated, the order of operations needs to go:\n",
    "    X: types available: DIGIT, VULGAR, LATIN, QUOTATION, APOSTROPHE\n",
    "    1. check if prev_type = current_type\n",
    "    2. if different & prev_type != None then check curr_type vs prev_type:\n",
    "        2a. prev_type = DIGIT, then start string for unit\n",
    "\n",
    "\"\"\"\n",
    "#2024-02-20 closing - may need to temporarily remove backup measurement testing for later debugging if needed\n",
    "def package_measurement(measurement):\n",
    "    # expecting spaces between integers, fractions, and unit denotations\n",
    "    global measurement_list\n",
    "    measurement_list = [[],[],0]\n",
    "    \n",
    "    \n",
    "    for piece in measurement.split(\" \"):\n",
    "        measuerment_stage = measurement_list[2]\n",
    "        break_measure = measureBreakTest(piece)\n",
    "        print(break_measure)\n",
    "        # break\n",
    "        if not break_measure[2]: \n",
    "            measurement_list = measureBreak(break_measure, measurement_list)\n",
    "        else:            \n",
    "            try:\n",
    "                measurement_float = uni.numeric(piece)\n",
    "                try:\n",
    "                    measurement_list[0][measuerment_stage] += measurement_float\n",
    "                except:\n",
    "                    measurement_list[0][measuerment_stage] = measurement_float\n",
    "            except:\n",
    "                measurement_list[1][measuerment_stage] = piece\n",
    "                measurement_list[2] += 1\n",
    "    # 2024-02-20 Test the code\n",
    "    if uni.name(measurement_list[1][0]) == \"APOSTROPHE\": # measurement is feet and inches\n",
    "        try:\n",
    "            measurement_list[0][0] = (measurement_list[0][0] * 12) + measurement_list[1][1]\n",
    "        except:\n",
    "            measurement_list[0][0] = measurement_list[0][0] * 12\n",
    "        return [measurement_list[0][0], \"inches\"] # converted to inchecs\n",
    "    elif uni.name(measurement_list[1][0]) == \"QUOTATION MARK\": \n",
    "        return [measurement_list[0][0], \"inches\"]\n",
    "    elif measurement_list[1][0] == \"lb\":\n",
    "        try:\n",
    "            measurement_list[0][0]+= (measurement_list[0][1] * 0.0625)\n",
    "        except:\n",
    "            pass\n",
    "        return [measurement_list[0][0], \"lb\"]\n",
    "    elif measurement_list[1][0] == \"oz\":\n",
    "        measurement_list[0][0] = measurement_list[0][0] * 0.0625\n",
    "        return [measurement_list[0][0], \"lb\"]\n",
    "        \n",
    "\n",
    "\n",
    "print(uni.name(\"'\"))\n",
    "article_id_list = soup.find_all(string=\"Article Number\")\n",
    "print(article_id_list[1].parent.parent)\n",
    "find1 = soup.find_all(\"span\", class_=\"pip-product-identifier__value\")\n",
    "print(find1)\n",
    "print(len(find1))\n",
    "# find2 = soup.find_all(\"ul\", class_=\"pip-accordion\", \"span\", class_=\"pip-product-identifier__value\")\n",
    "# print(find2)\n",
    "# print(len(find2))\n",
    "span_list = []\n",
    "for ul in soup.find_all('ul', {'class' : 'pip-accordion'}):\n",
    "    print(ul.find_all('span', {'class' : 'pip-product-identifier__value'}))\n",
    "    span_list.extend(ul.find_all('span', {'class' : 'pip-product-identifier__value'}))\n",
    "\n",
    "print(span_list)\n",
    "# print(span_list[1].parent.parent.parent.parent.parent.parent)\n",
    "print(\"\")\n",
    "product_dict = {}\n",
    "packaging_data = []\n",
    "packaging_dict = {}\n",
    "package_cnt = 0\n",
    "measure = []\n",
    "for pack in soup.find(\"div\", {\"class\" : \"pip-seo-content\"}).find_all(\"div\", {\"class\" : \"pip-product-dimensions__package-container\"}):\n",
    "    \n",
    "    product_dict[\"product_id\"] = pack.find(\"span\", {\"class\" : \"pip-product-identifier__value\"}).string\n",
    "    product_dict[\"package_series\"] = pack.find(\"span\", {\"class\" : \"pip-product-dimensions__package-header notranslate\"}).string\n",
    "    product_dict[\"package_description\"] = pack.find(\"span\", {\"aria-hidden\" : \"true\"}).string\n",
    "    package_ord = 0 #use in def with pack and package_ord = 0\n",
    "    package_dict = {}\n",
    "    for package in pack.find_all(\"div\", class_=\"pip-product-dimensions__measurement-container\"):\n",
    "        package_dict[\"package_ord\"] = package_ord + 1\n",
    "        \n",
    "        for measurement in package.find_all(\"p\", class_=\"pip-product-dimensions__measurement-wrapper\"):\n",
    "            # measure_key = dim.span.get_text(strip=True).lower()[:-1]\n",
    "            measure_key = measurement.get_text().split(\":\")[0].lower()\n",
    "            measure_value = measurement.get_text().split(\":\")[1]\n",
    "            print(measure_key)\n",
    "            print(measure_value)\n",
    "            print(\"--end--\")\n",
    "            measure = package_measurement(measure_value)\n",
    "            package_dict[measure_key] = measure\n",
    "\n",
    "# find a way to extract the dimensions type from <span and dimensions string to convert to float from <p\n",
    "        print(\"-- package_dict --\")\n",
    "        print(package_dict)    \n",
    "        package_ord += 1\n",
    "\n",
    "    packaging_data.append(packaging_dict)\n",
    "    print(packaging_data)\n",
    "    \n",
    "    print(\" -- next -- \")\n",
    "    \n",
    "# find2 = soup.find_all('div', {'class' : 'pip-product-dimensions'})\n",
    "# print(find2)\n",
    "# print(len(find2))\n",
    "# find3 = soup.find('div', {'class' : 'pip-product-dimensions'}).find('ul', {'class' : 'pip-accordion'}).find_all('span', {'class' : 'pip-product_identifier__value'})\n",
    "# print(find3)\n",
    "# print(len(find3))"
   ]
  },
  {
   "cell_type": "code",
   "execution_count": 152,
   "metadata": {},
   "outputs": [
    {
     "name": "stdout",
     "output_type": "stream",
     "text": [
      "36\n",
      "½\n",
      "\"\n"
     ]
    }
   ],
   "source": [
    "measurement = '36 ½ \"'\n",
    "for piece in measurement.split(\" \"):\n",
    "    print(piece)"
   ]
  },
  {
   "cell_type": "code",
   "execution_count": 126,
   "metadata": {},
   "outputs": [
    {
     "name": "stdout",
     "output_type": "stream",
     "text": [
      "3.0\n",
      "<class 'str'>\n",
      "6.0\n",
      "<class 'str'>\n",
      "not number\n",
      "<class 'str'>\n",
      "0.5\n",
      "<class 'str'>\n",
      "not number\n",
      "<class 'str'>\n",
      "not number\n",
      "<class 'str'>\n",
      "not number\n",
      "<class 'str'>\n",
      "not number\n",
      "<class 'str'>\n",
      "False\n",
      "[['3', '6', ' ', '½', '\"', ' ', 'o', 'z'], ['DIGIT', 'DIGIT', 'SPACE', 'VULGAR', 'QUOTATION', 'SPACE', 'LATIN', 'LATIN'], False]\n",
      "e\n",
      "ef\n"
     ]
    }
   ],
   "source": [
    "test = '36 ½\" oz'\n",
    "list = [[],[],True]\n",
    "\n",
    "cnt = 0\n",
    "for p in test:\n",
    "    list[0].append(p)\n",
    "    list[1].append(uni.name(p).split()[0])\n",
    "    if cnt > 0 and list[1][cnt] != list[1][cnt-1]: list[2] = False\n",
    "    # print(uni.name(test_list[p]).split(\" \")[0])\n",
    "    try:\n",
    "        print(uni.numeric(p))\n",
    "    except:\n",
    "        print(\"not number\")\n",
    "    print(type(p))\n",
    "    cnt += 1\n",
    "\n",
    "print(list[2])\n",
    "print(list)\n",
    "string_var = \"e\"\n",
    "print(string_var)\n",
    "string_var+=\"f\"\n",
    "print(string_var)"
   ]
  }
 ],
 "metadata": {
  "kernelspec": {
   "display_name": "Python 3",
   "language": "python",
   "name": "python3"
  },
  "language_info": {
   "codemirror_mode": {
    "name": "ipython",
    "version": 3
   },
   "file_extension": ".py",
   "mimetype": "text/x-python",
   "name": "python",
   "nbconvert_exporter": "python",
   "pygments_lexer": "ipython3",
   "version": "3.12.1"
  }
 },
 "nbformat": 4,
 "nbformat_minor": 2
}
