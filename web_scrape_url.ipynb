{
 "cells": [
  {
   "cell_type": "code",
   "execution_count": 1,
   "metadata": {},
   "outputs": [],
   "source": [
    "'''\n",
    "    For this exercise, we will need to visit every webpage from the main source. \n",
    "    In this example, we are going to be a bit more specific and record the url and possible product_id after attending the url in testing.\n",
    "    This will allow for a clean keep of the 2D list, which may be replaced with a dictionary either in the process or later in a conversion.\n",
    "    Idea: simultanious lists/dicts for product_urls and nav_urls\n",
    "'''\n",
    "\n",
    "from bs4 import BeautifulSoup\n",
    "import requests\n",
    "\n",
    "urls = []\n",
    "product_dict = {}\n",
    "\n",
    "def url_raw_list(site):\n",
    "    r = requests.get(site) # getting the requests from the url, site\n",
    "    soup = BeautifulSoup(r.text, \"html.parser\") # converting the text to the deciferable soup\n",
    "    try: # if site is a product description it will be added to the product_dict with the product_id as key\n",
    "        product_id = soup.find(\"span\", class_ = \"pip-product-identifier__value\").string\n",
    "        product_dict[product_id] = site\n",
    "    except: pass\n",
    "\n",
    "    for link in soup.find_all(\"a\"):\n",
    "        try:\n",
    "            href = link.get('href')\n",
    "            if href not in urls:\n",
    "                site = href\n",
    "                urls.append(site)\n",
    "                # print(site)\n",
    "                url_raw_list(site)\n",
    "        except: pass\n",
    "\n",
    "\n",
    "if __name__ == \"__main__\":\n",
    "\n",
    "    home_page = 'https://www.ikea.com/us/en/cat/products-products/'\n",
    "    url_raw_list(home_page)\n",
    "    print(\"length of url list is:\", len(urls))\n",
    "    print(\"length of product_dict is:\", len(product_dict))"
   ]
  },
  {
   "cell_type": "code",
   "execution_count": 2,
   "metadata": {},
   "outputs": [
    {
     "ename": "NameError",
     "evalue": "name 'product_dict' is not defined",
     "output_type": "error",
     "traceback": [
      "\u001b[0;31m---------------------------------------------------------------------------\u001b[0m",
      "\u001b[0;31mNameError\u001b[0m                                 Traceback (most recent call last)",
      "Cell \u001b[0;32mIn[2], line 1\u001b[0m\n\u001b[0;32m----> 1\u001b[0m \u001b[38;5;28mprint\u001b[39m(\u001b[38;5;28mlen\u001b[39m(\u001b[43mproduct_dict\u001b[49m))\n",
      "\u001b[0;31mNameError\u001b[0m: name 'product_dict' is not defined"
     ]
    }
   ],
   "source": [
    "print(len(product_dict))"
   ]
  }
 ],
 "metadata": {
  "kernelspec": {
   "display_name": "Python 3",
   "language": "python",
   "name": "python3"
  },
  "language_info": {
   "codemirror_mode": {
    "name": "ipython",
    "version": 3
   },
   "file_extension": ".py",
   "mimetype": "text/x-python",
   "name": "python",
   "nbconvert_exporter": "python",
   "pygments_lexer": "ipython3",
   "version": "3.12.1"
  }
 },
 "nbformat": 4,
 "nbformat_minor": 2
}
