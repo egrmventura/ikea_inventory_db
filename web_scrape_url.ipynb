{
 "cells": [
  {
   "cell_type": "code",
   "execution_count": 3,
   "metadata": {},
   "outputs": [
    {
     "name": "stdout",
     "output_type": "stream",
     "text": [
      "length of url list is: 0\n",
      "length of product_dict is: 0\n"
     ]
    }
   ],
   "source": [
    "'''\n",
    "    For this exercise, we will need to visit every webpage from the main source. \n",
    "    In this example, we are going to be a bit more specific and record the url and possible product_id after attending the url in testing.\n",
    "    This will allow for a clean keep of the 2D list, which may be replaced with a dictionary either in the process or later in a conversion.\n",
    "    Idea: simultanious lists/dicts for product_urls and nav_urls\n",
    "'''\n",
    "\n",
    "from bs4 import BeautifulSoup\n",
    "import requests\n",
    "\n",
    "urls = []\n",
    "product_dict = {}\n",
    "\n",
    "def url_raw_list(site):\n",
    "    r = requests.get(site) # getting the requests from the url, site\n",
    "    soup = BeautifulSoup(r.text, \"html.parser\") # converting the text to the deciferable soup\n",
    "    try: # if site is a product description it will be added to the product_dict with the product_id as key\n",
    "        product_id = soup.find(\"span\", class_ = \"pip-product-identifier__value\").string\n",
    "        product_dict[product_id] = site\n",
    "    except: pass\n",
    "\n",
    "    for link in soup.find_all(\"a\"):\n",
    "        try:\n",
    "            href = link.get('href')\n",
    "            if href not in urls:\n",
    "                site = href\n",
    "                urls.append(site)\n",
    "                # print(site)\n",
    "                url_raw_list(site)\n",
    "        except: pass\n",
    "\n",
    "\n",
    "if __name__ == \"__main__\":\n",
    "\n",
    "    home_page = 'https://www.ikea.com/us/en/cat/products-products/'\n",
    "    # url_raw_list(home_page)\n",
    "    print(\"length of url list is:\", len(urls))\n",
    "    print(\"length of product_dict is:\", len(product_dict))"
   ]
  },
  {
   "cell_type": "code",
   "execution_count": 16,
   "metadata": {},
   "outputs": [
    {
     "name": "stdout",
     "output_type": "stream",
     "text": [
      "https://www.ikea.com/us/en/p/hemnes-bed-frame-with-2-storage-boxes-dark-gray-stained-luroey-s89275171/#content\n",
      "https://www.ikea.com/us/en/p/hemnes-bed-frame-with-2-storage-boxes-dark-gray-stained-loenset-s69275214/#content\n",
      "https://www.ikea.com/us/en/p/hemnes-bed-frame-with-2-storage-boxes-black-brown-s49275314/#content\n",
      "https://www.ikea.com/us/en/p/hemnes-bed-frame-with-2-storage-boxes-white-stain-s69275313/#content\n"
     ]
    }
   ],
   "source": [
    "from bs4 import BeautifulSoup\n",
    "import requests\n",
    "import json\n",
    "\n",
    "url = 'https://www.ikea.com/us/en/p/hemnes-bed-frame-with-2-storage-boxes-dark-gray-stained-s09275170/'\n",
    "\n",
    "r = requests.get(url)\n",
    "soup = BeautifulSoup(r.text, \"html.parser\")\n",
    "# data_json = soup.find_all(\"div\", class_ = \"pip-product__subgrid product-pip js-product-pip\")\n",
    "variations = soup.find(\"div\", class_ = \"pip-product__buy-module-container\").find(\"div\", class_ = \"js-product-style-picker pip-product-styles pip-product-styles--multiple\").find_all(\"a\")\n",
    "# print(variations)\n",
    "for vari in variations:\n",
    "    href = vari.get('href')\n",
    "    print(href)"
   ]
  }
 ],
 "metadata": {
  "kernelspec": {
   "display_name": "Python 3",
   "language": "python",
   "name": "python3"
  },
  "language_info": {
   "codemirror_mode": {
    "name": "ipython",
    "version": 3
   },
   "file_extension": ".py",
   "mimetype": "text/x-python",
   "name": "python",
   "nbconvert_exporter": "python",
   "pygments_lexer": "ipython3",
   "version": "3.12.1"
  }
 },
 "nbformat": 4,
 "nbformat_minor": 2
}
